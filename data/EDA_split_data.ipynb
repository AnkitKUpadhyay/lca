{
 "cells": [
  {
   "cell_type": "code",
   "execution_count": 50,
   "metadata": {},
   "outputs": [
    {
     "name": "stdout",
     "output_type": "stream",
     "text": [
      "The autoreload extension is already loaded. To reload it, use:\n",
      "  %reload_ext autoreload\n"
     ]
    }
   ],
   "source": [
    "%load_ext autoreload\n",
    "\n",
    "%autoreload 2\n"
   ]
  },
  {
   "cell_type": "code",
   "execution_count": 51,
   "metadata": {},
   "outputs": [],
   "source": [
    "from plot_images import plot_images\n",
    "from tools import load_json, read_yaml_config, export_annos, final_join, filter_by_csv, assign_viewpoints, apply_filters\n",
    "import os\n",
    "import pandas as pd\n",
    "import matplotlib.pyplot as plt\n",
    "import warnings\n",
    "warnings.filterwarnings(\"ignore\")"
   ]
  },
  {
   "cell_type": "markdown",
   "metadata": {},
   "source": [
    "### Load data"
   ]
  },
  {
   "cell_type": "code",
   "execution_count": 52,
   "metadata": {},
   "outputs": [
    {
     "name": "stdout",
     "output_type": "stream",
     "text": [
      "{'data_dir': '/media/kate/Elements1/ISYNC-LUT/giraffe_TAMIL/giraffe_eda1/coco', 'export_dir': '/media/kate/Elements1/ISYNC-LUT/giraffe_TAMIL/giraffe_eda1/coco/split', 'images_dir': '/media/kate/Elements1/ISYNC-LUT/giraffe_TAMIL/giraffe_eda1/coco/images/test2023', 'raw_annotation_path': '/media/kate/Elements1/ISYNC-LUT/giraffe_TAMIL/giraffe_eda1/coco/annotations/instances_train2023.json', 'preprocessed_annotation_path': '/media/kate/Elements1/ISYNC-LUT/giraffe_TAMIL/giraffe_eda1/coco/annotations/preprocessed.json', 'excluded_viewpoints': [], 'csv_dir': '/media/kate/Elements1/ISYNC-LUT/giraffe_TAMIL/giraffe_eda1/coco/csvs', 'csv_column_names': ['annotation_uuid', 'species', 'viewpoint', 'name_uuid', 'name', 'date'], 'merge_cols': ['annotation_uuid', 'viewpoint_y']}\n",
      "viewpoint\n",
      "front       7\n",
      "left     1433\n",
      "right    1429\n",
      "dtype: int64\n"
     ]
    }
   ],
   "source": [
    "config_file_path = 'configs/config.yaml'\n",
    "species = 'giraffe'\n",
    "config = read_yaml_config(config_file_path, species)\n",
    "print(config)\n",
    "\n",
    "anno_path = config[\"preprocessed_annotation_path\"]\n",
    "\n",
    "images_dir = config[\"images_dir\"]\n",
    "\n",
    "excluded_viewpoints = config['excluded_viewpoints']\n",
    "\n",
    "data = load_json(anno_path)\n",
    "\n",
    "\n",
    "dfa = pd.DataFrame(data['annotations'])\n",
    "dfi = pd.DataFrame(data['images'])\n",
    "dfn = pd.DataFrame(data['individuals'])\n",
    "dfc = pd.DataFrame(data['categories'])\n",
    "\n",
    "# dfi = dfi.drop_duplicates(keep='first')\n",
    "\n",
    "assert not dfi.astype(str).duplicated().any()\n",
    "\n",
    "df = dfa.merge(dfi, left_on='image_uuid', right_on='uuid')\n",
    "df = df.merge(dfn, left_on='individual_uuid', right_on='uuid')\n",
    "df = df.merge(dfc, left_on='category_id', right_on='id')\n",
    "\n",
    "assert not df.astype(str).duplicated().any()\n",
    "\n",
    "counts = df.groupby('viewpoint').size()\n",
    "print(counts)\n",
    "\n",
    "\n",
    "df['path'] = df['file_name'].apply(lambda x: os.path.join(images_dir, x))\n",
    "\n",
    "assert df['path'].apply(os.path.exists).all()"
   ]
  },
  {
   "cell_type": "code",
   "execution_count": 53,
   "metadata": {},
   "outputs": [],
   "source": [
    "df['name_viewpoint'] = df['name'] + '-' + df['viewpoint']\n",
    "df['species_viewpoint'] = df['species'] + '-' + df['viewpoint']"
   ]
  },
  {
   "cell_type": "code",
   "execution_count": 54,
   "metadata": {},
   "outputs": [
    {
     "name": "stdout",
     "output_type": "stream",
     "text": [
      "Annotations after removing singletons: 2857\n",
      "Annotations after removing annotations without name: 2857\n",
      "viewpoint\n",
      "front       7\n",
      "left     1427\n",
      "right    1423\n",
      "dtype: int64\n"
     ]
    }
   ],
   "source": [
    "# Remove singletons\n",
    "df = apply_filters(df, 'name_viewpoint', None, min_df=2)\n",
    "\n",
    "print(\"Annotations after removing singletons:\", len(df))\n",
    "\n",
    "# Remove annotations without name\n",
    "df = df[df['name'] != '____']\n",
    "df = df.reset_index(drop=True)\n",
    "\n",
    "print(\"Annotations after removing annotations without name:\", len(df))\n",
    "\n",
    "counts = df.groupby('viewpoint').size()\n",
    "print(counts)"
   ]
  },
  {
   "cell_type": "code",
   "execution_count": 55,
   "metadata": {},
   "outputs": [
    {
     "name": "stdout",
     "output_type": "stream",
     "text": [
      "2857\n",
      "532\n"
     ]
    },
    {
     "data": {
      "text/plain": [
       "<AxesSubplot:>"
      ]
     },
     "execution_count": 55,
     "metadata": {},
     "output_type": "execute_result"
    },
    {
     "data": {
      "image/png": "[encoded data removed]",
      "text/plain": [
       "<Figure size 640x480 with 1 Axes>"
      ]
     },
     "metadata": {},
     "output_type": "display_data"
    }
   ],
   "source": [
    "print(len(df))\n",
    "\n",
    "print(len(df['name_viewpoint'].unique()))\n",
    "\n",
    "df['species'].value_counts().plot(kind='barh')\n"
   ]
  },
  {
   "cell_type": "code",
   "execution_count": 56,
   "metadata": {},
   "outputs": [],
   "source": [
    "# Make sure merging did not create duplicates\n",
    "assert not df.astype(str).duplicated().any()"
   ]
  },
  {
   "cell_type": "markdown",
   "metadata": {},
   "source": [
    "### Split\n",
    "- The split "
   ]
  },
  {
   "cell_type": "code",
   "execution_count": 57,
   "metadata": {},
   "outputs": [],
   "source": [
    "from split import split_df"
   ]
  },
  {
   "cell_type": "code",
   "execution_count": 58,
   "metadata": {},
   "outputs": [
    {
     "name": "stdout",
     "output_type": "stream",
     "text": [
      "giraffa_reticulata    2857\n",
      "Name: species, dtype: int64\n",
      "532\n"
     ]
    }
   ],
   "source": [
    "print(df['species'].value_counts())\n",
    "print(len(df['name_viewpoint'].unique()))"
   ]
  },
  {
   "cell_type": "code",
   "execution_count": 59,
   "metadata": {},
   "outputs": [
    {
     "name": "stdout",
     "output_type": "stream",
     "text": [
      "Filtering...\n",
      "Before filtering: 2857 annotations\n"
     ]
    },
    {
     "name": "stdout",
     "output_type": "stream",
     "text": [
      "After filtering: 2857 annotations\n",
      "\n",
      "--------------------------------------------------\n",
      "\n",
      "Calculating stats for combined subsets\n",
      "** cross-set stats **\n",
      "\n",
      "- Counts: \n",
      "Number of annotations - total:  2857\n",
      "number of individuals in train:  174\n",
      "number of annotations in train:  1994\n",
      "\n",
      "number of individuals in test:  93\n",
      "number of annotations in test:  439\n",
      "\n",
      "number of individuals in val:  92\n",
      "number of annotations in val:  424\n",
      "\n",
      "train ratio:  0.6979348967448372\n",
      "average number of annotations per individual in train: 11.46\n",
      "average number of annotations per individual in test: 4.72\n",
      "average number of annotations per individual in val: 4.61\n",
      "\n",
      "- New individuals: \n",
      "ratio of new names to all individuals in test: 0.53\n",
      "\n",
      "number of new (unseen) individuals in val: 44\n",
      "ratio of new names to all individuals in val: 0.48\n",
      "- Individuals in sets: \n",
      "number of overlapping individuals in train & test: 44\n",
      "ratio of overlapping names to total individuals in train: 0.25\n",
      "ratio of overlapping names to total individuals in test: 0.47\n",
      "Number of annotations in train for overlapping individuals with test:  152\n",
      "Number of annotations in test for overlapping individuals with train:  153\n",
      "ratio of annotations in test for overlapping individuals with train:  0.5016393442622951\n",
      "number of overlapping individuals in train & val: 48\n",
      "ratio of overlapping names to total individuals in train: 0.28\n",
      "ratio of overlapping names to total individuals in val: 0.52\n",
      "Number of annotations in train for overlapping individuals with val:  169\n",
      "Number of annotations in val for overlapping individuals with train:  169\n",
      "ratio of annotations in val for overlapping individuals with train:  0.5\n"
     ]
    }
   ],
   "source": [
    "# apply split function\n",
    "# train_ratio -- The proportion of the dataset to include in the train split (between 0 and 1). Defaults to 0.7.\n",
    "# unseen_ratio -- The proportion of unique classes to be unseen in the test (and validation) sets (between 0 and 1). Defaults to 0.5.\n",
    "# is_val -- If True, split the test set further into test and validation sets. Defaults to True.\n",
    "# stratify_col -- The column on which to stratify the splits. Defaults to 'name'\n",
    "\n",
    "\n",
    "df_tr, df_te, df_val = split_df(df, train_ratio=0.7, unseen_ratio=0.5, is_val=True, stratify_col='name', print_key='name', verbose=True)\n",
    "# df_tr, df_te = split_df(df, train_ratio=0.7, unseen_ratio=0.5, is_val=False, stratify_col='name', print_key='name', verbose=True)\n",
    "\n"
   ]
  },
  {
   "cell_type": "code",
   "execution_count": 60,
   "metadata": {},
   "outputs": [
    {
     "name": "stdout",
     "output_type": "stream",
     "text": [
      "** cross-set stats **\n",
      "\n",
      "- Counts: \n",
      "Number of annotations - total:  2501\n",
      "number of individuals in train:  274\n",
      "number of annotations in train:  1704\n",
      "\n",
      "number of individuals in test:  151\n",
      "number of annotations in test:  408\n",
      "\n",
      "number of individuals in val:  144\n",
      "number of annotations in val:  389\n",
      "\n",
      "train ratio:  0.681327469012395\n",
      "average number of annotations per individual in train: 6.22\n",
      "average number of annotations per individual in test: 2.70\n",
      "average number of annotations per individual in val: 2.70\n",
      "\n",
      "- New individuals: \n",
      "ratio of new names to all individuals in test: 0.87\n",
      "\n",
      "number of new (unseen) individuals in val: 126\n",
      "ratio of new names to all individuals in val: 0.88\n",
      "- Individuals in sets: \n",
      "number of overlapping individuals in train & test: 19\n",
      "ratio of overlapping names to total individuals in train: 0.07\n",
      "ratio of overlapping names to total individuals in test: 0.13\n",
      "Number of annotations in train for overlapping individuals with test:  38\n",
      "Number of annotations in test for overlapping individuals with train:  38\n",
      "ratio of annotations in test for overlapping individuals with train:  0.5\n",
      "number of overlapping individuals in train & val: 18\n",
      "ratio of overlapping names to total individuals in train: 0.07\n",
      "ratio of overlapping names to total individuals in val: 0.12\n",
      "Number of annotations in train for overlapping individuals with val:  37\n",
      "Number of annotations in val for overlapping individuals with train:  37\n",
      "ratio of annotations in val for overlapping individuals with train:  0.5\n"
     ]
    }
   ],
   "source": [
    "# apply filtering to split data\n",
    "from split import apply_filters, intersect_stats\n",
    "\n",
    "df_tr_filtered = apply_filters(df_tr, 'name_viewpoint', max_df=20, min_df=2)\n",
    "df_te_filtered = apply_filters(df_te, 'name_viewpoint', max_df=10, min_df=2)\n",
    "df_val_filtered = apply_filters(df_val, 'name_viewpoint', max_df=10, min_df=2)\n",
    "\n",
    "intersect_stats(df_tr_filtered, df_te_filtered, df_val_filtered, key='name_viewpoint')"
   ]
  },
  {
   "cell_type": "code",
   "execution_count": 61,
   "metadata": {},
   "outputs": [
    {
     "data": {
      "image/png": "[encoded data removed]",
      "text/plain": [
       "<Figure size 1500x500 with 3 Axes>"
      ]
     },
     "metadata": {},
     "output_type": "display_data"
    }
   ],
   "source": [
    "# Plot data\n",
    "\n",
    "from tools import add_image_count\n",
    "\n",
    "# Add 'image_count\" column\n",
    "df_tr = add_image_count(df_tr, 'name_viewpoint')\n",
    "df_te = add_image_count(df_te, 'name_viewpoint')\n",
    "df_val = add_image_count(df_val, 'name_viewpoint')\n",
    "\n",
    "fig, axes = plt.subplots(1, 3, figsize=(15, 5))\n",
    "\n",
    "# Plot histograms for each DataFrame in a separate subplot\n",
    "df_tr['image_count'].hist(ax=axes[0], bins=20, color='blue', alpha=0.7)\n",
    "axes[0].set_title('Training Set')\n",
    "axes[0].set_xlabel('Image Count')\n",
    "axes[0].set_ylabel('Frequency')\n",
    "\n",
    "df_te['image_count'].hist(ax=axes[1], bins=20, color='green', alpha=0.7)\n",
    "axes[1].set_title('Testing Set')\n",
    "axes[1].set_xlabel('Image Count')\n",
    "axes[1].set_ylabel('Frequency')\n",
    "\n",
    "df_val['image_count'].hist(ax=axes[2], bins=20, color='orange', alpha=0.7)\n",
    "axes[2].set_title('Validation Set')\n",
    "axes[2].set_xlabel('Image Count')\n",
    "axes[2].set_ylabel('Frequency')\n",
    "\n",
    "# Adjust layout\n",
    "plt.tight_layout()\n",
    "plt.show()"
   ]
  },
  {
   "cell_type": "markdown",
   "metadata": {},
   "source": [
    "### Generate files to be exported\n",
    "\n",
    "\n",
    "\n",
    "\n"
   ]
  },
  {
   "cell_type": "code",
   "execution_count": 62,
   "metadata": {},
   "outputs": [],
   "source": [
    "dfa_tr, dfi_tr, dfn_tr, dfc_tr = final_join(df_tr, dfa, dfi, dfn, dfc, df)\n",
    "dfa_te, dfi_te, dfn_te, dfc_te = final_join(df_te, dfa, dfi, dfn, dfc, df)\n",
    "dfa_val, dfi_val, dfn_val, dfc_val = final_join(df_val, dfa, dfi, dfn, dfc, df)"
   ]
  },
  {
   "cell_type": "markdown",
   "metadata": {},
   "source": [
    "### Final data distribution sanity checks"
   ]
  },
  {
   "cell_type": "code",
   "execution_count": 63,
   "metadata": {},
   "outputs": [
    {
     "data": {
      "text/plain": [
       "<AxesSubplot:>"
      ]
     },
     "execution_count": 63,
     "metadata": {},
     "output_type": "execute_result"
    },
    {
     "data": {
      "image/png": "[encoded data removed]",
      "text/plain": [
       "<Figure size 640x480 with 1 Axes>"
      ]
     },
     "metadata": {},
     "output_type": "display_data"
    },
    {
     "data": {
      "image/png": "[encoded data removed]",
      "text/plain": [
       "<Figure size 640x480 with 1 Axes>"
      ]
     },
     "metadata": {},
     "output_type": "display_data"
    }
   ],
   "source": [
    "fig, ax = plt.subplots()\n",
    "# ax2 = ax.twiny()\n",
    "dfa_tr['species'].value_counts().plot(kind='barh', ax=ax)\n",
    "dfa_te['species'].value_counts().plot(kind='barh', ax=ax, color='orange')\n",
    "\n",
    "fig, ax = plt.subplots()\n",
    "# ax2 = ax.twiny()\n",
    "dfa_tr['viewpoint'].value_counts().plot(kind='barh', ax=ax)\n",
    "dfa_te['viewpoint'].value_counts().plot(kind='barh', ax=ax, color='orange')"
   ]
  },
  {
   "cell_type": "code",
   "execution_count": 64,
   "metadata": {},
   "outputs": [],
   "source": [
    "assert not dfa_tr['uuid'].duplicated().any()"
   ]
  },
  {
   "cell_type": "markdown",
   "metadata": {},
   "source": [
    "### Export"
   ]
  },
  {
   "cell_type": "code",
   "execution_count": 65,
   "metadata": {},
   "outputs": [
    {
     "name": "stdout",
     "output_type": "stream",
     "text": [
      "out_path: /media/kate/Elements1/ISYNC-LUT/giraffe_TAMIL/giraffe_eda1/coco/split/instances_train2024.json\n",
      "shapes:  (1994, 10) (1994, 5)\n",
      "len(images_list): 1994\n",
      "len(annos_list): 1994\n",
      "out_path: /media/kate/Elements1/ISYNC-LUT/giraffe_TAMIL/giraffe_eda1/coco/split/instances_val2024.json\n",
      "shapes:  (424, 10) (424, 5)\n",
      "len(images_list): 424\n",
      "len(annos_list): 424\n",
      "out_path: /media/kate/Elements1/ISYNC-LUT/giraffe_TAMIL/giraffe_eda1/coco/split/instances_test2024.json\n",
      "shapes:  (439, 10) (439, 5)\n",
      "len(images_list): 439\n",
      "len(annos_list): 439\n"
     ]
    }
   ],
   "source": [
    "export_dir = config[\"export_dir\"]\n",
    "os.makedirs(export_dir, exist_ok=True)\n",
    "\n",
    "\n",
    "def coco_path(split): return f\"instances_{split}2024.json\"\n",
    "\n",
    "\n",
    "train_coco_path = os.path.join(export_dir, coco_path('train'))\n",
    "val_coco_path = os.path.join(export_dir, coco_path('val'))\n",
    "test_coco_path = os.path.join(export_dir, coco_path('test'))\n",
    "\n",
    "export_annos(dfa_tr, dfi_tr, dfn_tr, dfc_tr, train_coco_path)\n",
    "export_annos(dfa_val, dfi_val, dfn_val, dfc_val, val_coco_path)\n",
    "export_annos(dfa_te, dfi_te,  dfn_te, dfc_te,test_coco_path)"
   ]
  }
 ],
 "metadata": {
  "kernelspec": {
   "display_name": "Python 3 (ipykernel)",
   "language": "python",
   "name": "python3"
  },
  "language_info": {
   "codemirror_mode": {
    "name": "ipython",
    "version": 3
   },
   "file_extension": ".py",
   "mimetype": "text/x-python",
   "name": "python",
   "nbconvert_exporter": "python",
   "pygments_lexer": "ipython3",
   "version": "3.8.10"
  }
 },
 "nbformat": 4,
 "nbformat_minor": 2
}
